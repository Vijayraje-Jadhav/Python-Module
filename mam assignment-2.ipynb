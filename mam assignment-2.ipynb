{
 "cells": [
  {
   "cell_type": "code",
   "execution_count": 4,
   "id": "6ef409c3",
   "metadata": {},
   "outputs": [
    {
     "name": "stdout",
     "output_type": "stream",
     "text": [
      "Enter the interger: 1234\n",
      "the reversed number is  4321\n"
     ]
    }
   ],
   "source": [
    "# Write a program to reverse an integer in Python.\n",
    "# Example:\n",
    "# Input: 1234\n",
    "# Output: 4321\n",
    "\n",
    "def reverse(b):\n",
    "    r = int(str(b)[::-1])\n",
    "    return r\n",
    "\n",
    "b = int(input(\"Enter the interger: \"))\n",
    "print(\"the reversed number is \", reverse(b))\n"
   ]
  },
  {
   "cell_type": "code",
   "execution_count": null,
   "id": "e49d9e3a",
   "metadata": {},
   "outputs": [],
   "source": [
    "# Write a program in Python to check whether an integer is an Armstrong number or not.\n",
    "# Example:\n",
    "# Input: 153\n",
    "# Output: True\n",
    "\n"
   ]
  },
  {
   "cell_type": "code",
   "execution_count": 23,
   "id": "1b874717",
   "metadata": {},
   "outputs": [
    {
     "name": "stdout",
     "output_type": "stream",
     "text": [
      "Enter the number: 77\n",
      "the number is not prime\n"
     ]
    }
   ],
   "source": [
    "# Write a program in Python to check if a given number is prime or not.\n",
    "# Example:\n",
    "# Input: 17\n",
    "# Output: True\n",
    "\n",
    "def prime(n):\n",
    "    \n",
    "    for i in range(2,int(n**0.5)+1):\n",
    "        \n",
    "        if (n%i==0):\n",
    "            return False\n",
    "    return True\n",
    "\n",
    "n = int(input(\"Enter the number: \"))\n",
    "r = prime(n)\n",
    "\n",
    "if r is True:\n",
    "    print(\"the number is prime\")\n",
    "else:\n",
    "     print(\"the number is not prime\")"
   ]
  },
  {
   "cell_type": "code",
   "execution_count": 2,
   "id": "196bbf27",
   "metadata": {},
   "outputs": [
    {
     "name": "stdout",
     "output_type": "stream",
     "text": [
      "Enter the number: 10\n",
      "the fibobacci serie is:  [0, 1, 1, 2, 3, 5, 8, 13, 21, 34]\n"
     ]
    }
   ],
   "source": [
    "# Write a program in Python to print the Fibonacci series using an iterative method.\n",
    "# Example:\n",
    "# Input: 5\n",
    "# Output: [0, 1, 1, 2, 3]\n",
    "# #\n",
    "\n",
    "def fib(n):\n",
    "    d = [0,1]\n",
    "    \n",
    "    if n<0:\n",
    "        return[]\n",
    "    elif n==1:\n",
    "        return[0]\n",
    "    \n",
    "    \n",
    "    for i in range(2,n):\n",
    "        sn = d[-2]+d[-1]\n",
    "        d.append(sn)\n",
    "    return d\n",
    "\n",
    "\n",
    "\n",
    "n = int(input(\"Enter the number: \"))\n",
    "r = fib(n)\n",
    "\n",
    "print(\"the fibobacci serie is: \", r)"
   ]
  },
  {
   "cell_type": "code",
   "execution_count": 3,
   "id": "4ff1bdc7",
   "metadata": {},
   "outputs": [
    {
     "name": "stdout",
     "output_type": "stream",
     "text": [
      "Enter the numbers: 30,21,22\n",
      "the greatest number is:  30\n"
     ]
    }
   ],
   "source": [
    "# Write a program in Python to find the greatest among three integers.\n",
    "# Example:\n",
    "# Input: 10, 20, 30\n",
    "# Output: 30\n",
    "\n",
    "def greate(n):\n",
    "    d=[]\n",
    "    for i in n:\n",
    "        d.append(i)\n",
    "    return max(d)\n",
    "\n",
    "\n",
    "n= map(int,input(\"Enter the numbers: \").split(\",\"))\n",
    "r = greate(n)\n",
    "print(\"the greatest number is: \", r)"
   ]
  },
  {
   "cell_type": "code",
   "execution_count": 3,
   "id": "364181d8",
   "metadata": {},
   "outputs": [
    {
     "name": "stdout",
     "output_type": "stream",
     "text": [
      "Enter the number: 1010\n",
      "the number is not binary\n"
     ]
    }
   ],
   "source": [
    "# Write a program in Python to check if a number is binary.\n",
    "# Example:\n",
    "# Input: 1010\n",
    "# Output: True\n",
    "\n",
    "\n",
    "def binary(n):\n",
    "    d = str(n)\n",
    "    \n",
    "    for i in d:\n",
    "        if d not in (\"0\", \"1\"):\n",
    "            return False\n",
    "        \n",
    "    return True\n",
    "\n",
    "n = (input(\"Enter the number: \"))\n",
    "\n",
    "\n",
    "if binary(n):\n",
    "    print(\"the number is binary\")\n",
    "else:\n",
    "     print(\"the number is not binary\")"
   ]
  },
  {
   "cell_type": "code",
   "execution_count": 17,
   "id": "6ccf910e",
   "metadata": {},
   "outputs": [
    {
     "name": "stdout",
     "output_type": "stream",
     "text": [
      "Enter the number: 1234\n",
      "the sum number is:  10\n"
     ]
    }
   ],
   "source": [
    "# Write a program in Python to find the sum of digits of a number using recursion.\n",
    "# Example:\n",
    "# Input: 1234\n",
    "# Output: 10\n",
    "\n",
    "def sumd(n):\n",
    "    \n",
    "    return sum(int(i) for i in str(n))\n",
    "\n",
    "\n",
    "n = (input(\"Enter the number: \"))\n",
    "r = sumd(n)\n",
    "print(\"the sum number is: \", r)\n"
   ]
  },
  {
   "cell_type": "code",
   "execution_count": 18,
   "id": "c9bd903c",
   "metadata": {},
   "outputs": [
    {
     "name": "stdout",
     "output_type": "stream",
     "text": [
      "Enter the numbers: 22,23\n",
      "a:  23 b:  22\n"
     ]
    }
   ],
   "source": [
    "# Write a program in Python to swap two numbers without using a third variable.\n",
    "# Example:\n",
    "# Input: a = 5, b = 10\n",
    "# Output: a = 10, b = 5\n",
    "\n",
    "a,b = map(int,input(\"Enter the numbers: \").split(\",\"))\n",
    "\n",
    "a,b = b,a\n",
    "\n",
    "print(\"a: \", a, \"b: \", b)"
   ]
  },
  {
   "cell_type": "code",
   "execution_count": 21,
   "id": "f57608c4",
   "metadata": {},
   "outputs": [
    {
     "name": "stdout",
     "output_type": "stream",
     "text": [
      "Enter the numbers: 23,22\n",
      "a:  22 b:  23\n"
     ]
    }
   ],
   "source": [
    "# Write a program in Python to swap two numbers using a third variable.\n",
    "# Example:\n",
    "# Input: a = 5, b = 10\n",
    "# Output: a = 10, b = 5\n",
    "\n",
    "\n",
    "a,b = map(int,input(\"Enter the numbers: \").split(\",\"))\n",
    "\n",
    "c=b\n",
    "b=a\n",
    "a=c\n",
    "\n",
    "print(\"a: \", a, \"b: \", b)"
   ]
  },
  {
   "cell_type": "code",
   "execution_count": 7,
   "id": "92bea3c0",
   "metadata": {},
   "outputs": [
    {
     "name": "stdout",
     "output_type": "stream",
     "text": [
      "Enter the number: 8\n",
      "the prime factors:  [2, 4]\n"
     ]
    }
   ],
   "source": [
    "# Write a program in Python to find prime factors of a given integer.\n",
    "# Example:\n",
    "# Input: 28\n",
    "# Output: [2, 7]\n",
    "\n",
    "def prime_factor(n):\n",
    "    fact = []\n",
    "    \n",
    "    if n%2==0:\n",
    "        fact.append(2)\n",
    "        n //= 2\n",
    "    \n",
    "    for i in range(3,int(n**0.5)+1,2):\n",
    "        while n%i==0:\n",
    "            fact.append(i)\n",
    "            n//=i\n",
    "            \n",
    "    if n>2:\n",
    "        fact.append(n)\n",
    "    \n",
    "    return fact\n",
    "\n",
    "n = int(input(\"Enter the number: \"))\n",
    "r = prime_factor(n)\n",
    "print(\"the prime factors: \", r)\n"
   ]
  },
  {
   "cell_type": "code",
   "execution_count": 22,
   "id": "3039cc37",
   "metadata": {},
   "outputs": [
    {
     "name": "stdout",
     "output_type": "stream",
     "text": [
      "Enter the numbers: 5,3\n",
      "the prime factors:  8\n"
     ]
    }
   ],
   "source": [
    "# Write a program in Python to add two integers without using arithmetic operators.\n",
    "# Example:\n",
    "# Input: 5, 3\n",
    "# Output: 8\n",
    "\n",
    "def add_int(n):\n",
    "    l=[]\n",
    "    for i in n:\n",
    "        l.append(i)\n",
    "    return sum(l)\n",
    "\n",
    "\n",
    "\n",
    "n = map(int,input(\"Enter the numbers: \").split(\",\"))\n",
    "r = add_int(n)\n",
    "print(\"the prime factors: \", r)"
   ]
  },
  {
   "cell_type": "code",
   "execution_count": 25,
   "id": "432bf4ba",
   "metadata": {},
   "outputs": [
    {
     "name": "stdout",
     "output_type": "stream",
     "text": [
      "Enter the numbers: 10,20,30\n",
      "the average is:  20.0\n"
     ]
    }
   ],
   "source": [
    "# Write a Python program to find the average of numbers.\n",
    "# Example:\n",
    "# Input: [10, 20, 30]\n",
    "# Output: 20.0\n",
    "\n",
    "def average(n):\n",
    "    d =[]\n",
    "    for i in n:\n",
    "        d.append(i)\n",
    "    return sum(d)/len(d)\n",
    "\n",
    "\n",
    "n = map(int,input(\"Enter the numbers: \").split(\",\"))\n",
    "r = average(n)\n",
    "print(\"the average is: \", r)"
   ]
  },
  {
   "cell_type": "code",
   "execution_count": 5,
   "id": "5a28ab8e",
   "metadata": {},
   "outputs": [
    {
     "name": "stdout",
     "output_type": "stream",
     "text": [
      "Enter the number: 5\n",
      "the first prime numbers are:  [2, 3, 5, 7, 11]\n"
     ]
    }
   ],
   "source": [
    "# Write a Python program to print the first n prime numbers with an explanation.\n",
    "# Example:\n",
    "# Input: 5\n",
    "# Output: [2, 3, 5, 7, 11]\n",
    "\n",
    "def first_prime_number(n):\n",
    "    d=[]\n",
    "    r=2\n",
    "    \n",
    "    while len(d)<n:\n",
    "        flag = True\n",
    "        for i in range(2,int(r**0.5)+1):\n",
    "            if r%i==0:\n",
    "                flag = False\n",
    "                break\n",
    "           \n",
    "        if flag:\n",
    "             d.append(r)\n",
    "        r+=1\n",
    "    \n",
    "    return d\n",
    "\n",
    "\n",
    "n = int(input(\"Enter the number: \"))\n",
    "r = first_prime_number(n)\n",
    "print(\"the first prime numbers are: \", r)\n"
   ]
  },
  {
   "cell_type": "code",
   "execution_count": 8,
   "id": "62b377e2",
   "metadata": {},
   "outputs": [
    {
     "name": "stdout",
     "output_type": "stream",
     "text": [
      "Enter the numbers: 10,20\n",
      "the prime number in given range are:  [11, 13, 17, 19]\n"
     ]
    }
   ],
   "source": [
    "# Write a Python program to print prime numbers in a given range.\n",
    "# Example:\n",
    "# Input: 10 to 30\n",
    "# Output: [11, 13, 17, 19, 23, 29]\n",
    "\n",
    "def prime_in_range(a,b):\n",
    "    \n",
    "    d=[]\n",
    "    \n",
    "    \n",
    "        \n",
    "    for num in range(a,b+1):\n",
    "        \n",
    "        if num <2:\n",
    "            continue\n",
    "        \n",
    "        flag = True\n",
    "        for i in range(2,int(num**0.5)+1):\n",
    "            if num%i==0:\n",
    "                flag = False\n",
    "                break\n",
    "        if flag:\n",
    "            d.append(num)\n",
    "\n",
    "    \n",
    "        \n",
    "    return d\n",
    "\n",
    "a,b = map(int,input(\"Enter the numbers: \").split(\",\"))\n",
    "r = prime_in_range(a,b)\n",
    "print(\"the prime number in given range are: \", r)"
   ]
  },
  {
   "cell_type": "code",
   "execution_count": 10,
   "id": "8020aab9",
   "metadata": {},
   "outputs": [
    {
     "name": "stdout",
     "output_type": "stream",
     "text": [
      "Enter the numbers: 10,20,30\n",
      "the lowest is:  10\n"
     ]
    }
   ],
   "source": [
    "# Write a Python program to find the smallest number among three.\n",
    "# Example:\n",
    "# Input: 10, 20, 30\n",
    "# Output: 10\n",
    "\n",
    "def low(n):\n",
    "    d = []\n",
    "    \n",
    "    for i in n :\n",
    "        d.append(i)\n",
    "    return min(d)\n",
    "\n",
    "\n",
    "n = map(int,input(\"Enter the numbers: \").split(\",\"))\n",
    "r = low(n)\n",
    "print(\"the lowest is: \", r)\n"
   ]
  },
  {
   "cell_type": "code",
   "execution_count": 12,
   "id": "0461d2bd",
   "metadata": {},
   "outputs": [
    {
     "name": "stdout",
     "output_type": "stream",
     "text": [
      "Enter the number: 10\n",
      "the first prime numbers are:  1010\n"
     ]
    }
   ],
   "source": [
    "# Write a Python program to convert a decimal number into binary.\n",
    "# Example:\n",
    "# Input: 10\n",
    "# Output: 1010\n",
    "\n",
    "def binary(n):\n",
    "    return bin(n)[2:] #bin = binary function\n",
    "\n",
    "\n",
    "n = int(input(\"Enter the number: \"))\n",
    "r = binary(n)\n",
    "print(\"the binary number for that integer is: \", r)"
   ]
  },
  {
   "cell_type": "code",
   "execution_count": 15,
   "id": "09cf2112",
   "metadata": {},
   "outputs": [
    {
     "name": "stdout",
     "output_type": "stream",
     "text": [
      "Enter the number: 8\n",
      "the octal number for that integer is:  10\n"
     ]
    }
   ],
   "source": [
    "# Write a Python program to convert a decimal number to octal.\n",
    "# Example:\n",
    "# Input: 8\n",
    "# Output: 10\n",
    "def octal(n):\n",
    "    return oct(n)[2:] #oct = octal function\n",
    "\n",
    "\n",
    "n = int(input(\"Enter the number: \"))\n",
    "r = octal(n)\n",
    "print(\"the octal number for that integer is: \", r)"
   ]
  },
  {
   "cell_type": "code",
   "execution_count": 28,
   "id": "a8ee9211",
   "metadata": {},
   "outputs": [
    {
     "name": "stdout",
     "output_type": "stream",
     "text": [
      "Enter the year: 1234\n"
     ]
    },
    {
     "data": {
      "text/plain": [
       "False"
      ]
     },
     "execution_count": 28,
     "metadata": {},
     "output_type": "execute_result"
    }
   ],
   "source": [
    "# Write a Python program to check if the given year is a leap year or not.\n",
    "# Example:\n",
    "# Input: 2020\n",
    "# Output: True\n",
    "\n",
    "def leap(n):\n",
    "    if (n%4==0 ) :\n",
    "        return True\n",
    "    if (n%100==0 and n%400==0):\n",
    "        return True\n",
    "    else:\n",
    "        return False\n",
    "\n",
    "\n",
    "n = int(input(\"Enter the year: \"))\n",
    "r = leap(n)\n",
    "r\n",
    "# if leap:\n",
    "#     print(\"the year is leap year\")\n",
    "# else:\n",
    "#     print(\"the year is not a leap year\")"
   ]
  },
  {
   "cell_type": "code",
   "execution_count": 33,
   "id": "626bd861",
   "metadata": {},
   "outputs": [
    {
     "name": "stdout",
     "output_type": "stream",
     "text": [
      "Enter the string: hello\n",
      "Enter the letter: l\n",
      "the revised string is:  heo\n"
     ]
    }
   ],
   "source": [
    "# Write a Python program to remove a given character from a string.\n",
    "# Example:\n",
    "# Input: \"hello\", 'l'\n",
    "# Output: \"heo\"\n",
    "\n",
    "def rmstring(n,k):\n",
    "    \n",
    "    return n.replace(k,'') #use the replace function to replace the letter with empty spaces\n",
    "\n",
    "\n",
    "n = (input(\"Enter the string: \"))\n",
    "k= (input(\"Enter the letter: \"))\n",
    "r = rmstring(n,k)\n",
    "print(\"the revised string is: \", r)"
   ]
  },
  {
   "cell_type": "code",
   "execution_count": 38,
   "id": "d0e324ac",
   "metadata": {},
   "outputs": [
    {
     "name": "stdout",
     "output_type": "stream",
     "text": [
      "Enter the string: hello\n",
      "Enter the letter: l\n",
      "the count of the letter is:  2\n"
     ]
    }
   ],
   "source": [
    "# Write a Python program to count occurrences of a given character in a string.\n",
    "# Example:\n",
    "# Input: \"hello\", 'l'\n",
    "# Output: 2\n",
    "\n",
    "def count_string(n,k):\n",
    "    \n",
    "#     count=0\n",
    "#     for i in n:\n",
    "#         if i in k:\n",
    "#             count+=1\n",
    "            \n",
    "    return n.count(k)\n",
    "            \n",
    "#     return count\n",
    "\n",
    "\n",
    "\n",
    "n = (input(\"Enter the string: \"))\n",
    "k= (input(\"Enter the letter: \"))\n",
    "r = count_string(n,k)\n",
    "print(\"the count of the letter is: \", r)"
   ]
  },
  {
   "cell_type": "code",
   "execution_count": 43,
   "id": "31d18166",
   "metadata": {},
   "outputs": [
    {
     "name": "stdout",
     "output_type": "stream",
     "text": [
      "Enter the strings: listen,silent\n",
      "the strings are anagram:  True\n"
     ]
    }
   ],
   "source": [
    "# Write a Python program to check if two strings are anagrams.\n",
    "# Example:\n",
    "# Input: \"listen\", \"silent\"\n",
    "# Output: True\n",
    "\n",
    "def anagram(a,b):\n",
    "    return sorted(a)==sorted(b)\n",
    "\n",
    "\n",
    "\n",
    "a,b = map(str,input(\"Enter the strings: \").split(\",\"))\n",
    "r = anagram(a,b)\n",
    "print(\"the strings are anagram: \", r)"
   ]
  },
  {
   "cell_type": "code",
   "execution_count": 48,
   "id": "d88173dd",
   "metadata": {},
   "outputs": [
    {
     "name": "stdout",
     "output_type": "stream",
     "text": [
      "Enter the string: radar\n",
      "the count of the letter is:  True\n"
     ]
    }
   ],
   "source": [
    "# Write a Python program to check if a string is a palindrome.\n",
    "# Example:\n",
    "# Input: \"radar\"\n",
    "# Output: True\n",
    "\n",
    "def string_palindrome(n):\n",
    "    return n ==n[::-1]\n",
    "    \n",
    "#     for i in n:\n",
    "#         if n==n[::-1]:\n",
    "#             return True\n",
    "#             break\n",
    "#     return False\n",
    "    \n",
    "    \n",
    "        \n",
    "\n",
    "\n",
    "n = (input(\"Enter the string: \"))\n",
    "\n",
    "r = string_palindrome(n)\n",
    "print(\"the string is palinndrome: \", r)"
   ]
  },
  {
   "cell_type": "code",
   "execution_count": 59,
   "id": "e4645c01",
   "metadata": {},
   "outputs": [
    {
     "name": "stdout",
     "output_type": "stream",
     "text": [
      "Enter the letter: a\n",
      "the letter is vowel:  True\n"
     ]
    }
   ],
   "source": [
    "# Write a Python program to check if a given character is a vowel or consonant.\n",
    "# Example:\n",
    "# Input: 'a'\n",
    "# Output: Vowel\n",
    "\n",
    "def vowel(n):\n",
    "#     if n in \"aeiou\":\n",
    "#         return True\n",
    "#     return False\n",
    "\n",
    "    return n in \"aeiou\"\n",
    "\n",
    "\n",
    "n = (input(\"Enter the letter: \"))\n",
    "r = vowel(n)\n",
    "print(\"the letter is vowel: \", r)"
   ]
  },
  {
   "cell_type": "code",
   "execution_count": 66,
   "id": "eaf87ac0",
   "metadata": {},
   "outputs": [
    {
     "name": "stdout",
     "output_type": "stream",
     "text": [
      "Enter the letter: 5\n",
      "the letter is digit:  True\n"
     ]
    }
   ],
   "source": [
    "# Write a Python program to check if a given character is a digit or not.\n",
    "# Example:\n",
    "# Input: '5'\n",
    "# Output: True\n",
    "def digit(n):\n",
    "    return n.isdigit()\n",
    "\n",
    "\n",
    "n = (input(\"Enter the letter: \"))\n",
    "r = digit(n)\n",
    "print(\"the letter is digit: \", r)"
   ]
  },
  {
   "cell_type": "code",
   "execution_count": 67,
   "id": "56f1ca73",
   "metadata": {},
   "outputs": [
    {
     "name": "stdout",
     "output_type": "stream",
     "text": [
      "Enter the letter: Hello world\n",
      "the letter is digit:  Hello-world\n"
     ]
    }
   ],
   "source": [
    "# Write a Python program to replace spaces in a string with a given character.\n",
    "# Example:\n",
    "# Input: \"hello world\", '-'\n",
    "# Output: \"hello-world\"\n",
    "\n",
    "def replace_str(n):\n",
    "    return n.replace(\" \", \"-\")\n",
    "    \n",
    "\n",
    "\n",
    "\n",
    "n = (input(\"Enter the letter: \"))\n",
    "r = replace_str(n)\n",
    "print(\"the letter is digit: \", r)"
   ]
  },
  {
   "cell_type": "code",
   "execution_count": 68,
   "id": "1a3e554e",
   "metadata": {},
   "outputs": [
    {
     "name": "stdout",
     "output_type": "stream",
     "text": [
      "Enter the letter: hello\n",
      "the letter is digit:  HELLO\n"
     ]
    }
   ],
   "source": [
    "# Write a Python program to convert lowercase characters to uppercase in a string.\n",
    "# Example:\n",
    "# Input: \"hello\"\n",
    "# Output: \"HELLO\"\n",
    "def replace_lower(n):\n",
    "    return n.upper()\n",
    "\n",
    "\n",
    "n = (input(\"Enter the string: \"))\n",
    "r = replace_lower(n)\n",
    "print(\"the uppercase string is : \", r)"
   ]
  },
  {
   "cell_type": "code",
   "execution_count": 77,
   "id": "219a6a8b",
   "metadata": {},
   "outputs": [
    {
     "name": "stdout",
     "output_type": "stream",
     "text": [
      "Enter the letter: hello\n",
      "the letter is digit:  hll\n"
     ]
    }
   ],
   "source": [
    "# Write a Python program to delete vowels in a given string.\n",
    "# Example:\n",
    "# Input: \"hello\"\n",
    "# Output: \"hll\"\n",
    "\n",
    "def delete_vowels(n):\n",
    "    vowel =\"AEIOUaeiou\"\n",
    "    for i in vowel:\n",
    "        n=n.replace(i,\"\")\n",
    "    \n",
    "    return n\n",
    "\n",
    "n = (input(\"Enter the letter: \"))\n",
    "r = delete_vowels(n)\n",
    "print(\"the letter is digit: \", r)"
   ]
  },
  {
   "cell_type": "code",
   "execution_count": 85,
   "id": "defeb798",
   "metadata": {},
   "outputs": [
    {
     "name": "stdout",
     "output_type": "stream",
     "text": [
      "Enter the letter: hello\n",
      "vowels:  2 consonants:  3\n"
     ]
    }
   ],
   "source": [
    "# Write a Python program to count the occurrences of vowels and consonants in a string.\n",
    "# Example:\n",
    "# Input: \"hello\"\n",
    "# Output: Vowels: 2, Consonants: 3\n",
    "\n",
    "def count_vowels_consonants(n):\n",
    "    v_count=0\n",
    "    c_count=0\n",
    "    \n",
    "    for i in n:\n",
    "        if i in \"aeiouAEIOU\":\n",
    "            v_count+=1\n",
    "        elif i.isalpha():\n",
    "            c_count+=1\n",
    "        \n",
    "            \n",
    "    print(\"vowels: \",v_count,\"consonants: \",c_count)\n",
    "\n",
    "\n",
    "n = (input(\"Enter the letter: \"))\n",
    "count_vowels_consonants(n)\n"
   ]
  },
  {
   "cell_type": "code",
   "execution_count": 91,
   "id": "95ed9adf",
   "metadata": {},
   "outputs": [
    {
     "name": "stdout",
     "output_type": "stream",
     "text": [
      "Enter the string: hello\n",
      "the highest frequency letter is:  l\n"
     ]
    }
   ],
   "source": [
    "# Write a Python program to print the highest frequency character in a string.\n",
    "# Example:\n",
    "# Input: \"hello\"\n",
    "# Output: 'l'\n",
    "\n",
    "def high_feq(n):\n",
    "    d={}\n",
    "   \n",
    "    \n",
    "    for i in n :\n",
    "        d[i]= d.get(i,0)+1\n",
    "    \n",
    "    max_key = max(d, key=d.get)\n",
    "    return max_key\n",
    "    \n",
    "    \n",
    "    \n",
    "    \n",
    "n = (input(\"Enter the string: \"))\n",
    "r = high_feq(n)\n",
    "print(\"the highest frequency letter is: \", r)"
   ]
  },
  {
   "cell_type": "code",
   "execution_count": 94,
   "id": "64e31de4",
   "metadata": {},
   "outputs": [
    {
     "name": "stdout",
     "output_type": "stream",
     "text": [
      "Enter the string: hello\n",
      "the new string is:  h-llo\n"
     ]
    }
   ],
   "source": [
    "# Write a Python program to replace the first occurrence of a vowel with '-' in a string.\n",
    "# Example:\n",
    "# Input: \"hello\"\n",
    "# Output: \"h-llo\"\n",
    "\n",
    "def replace_first_vowel(n):\n",
    "    \n",
    "    for i in n :\n",
    "        if i in \"aeiouAEIOU\":\n",
    "            n=n.replace(i,\"-\",1)\n",
    "            break\n",
    "    return n\n",
    "\n",
    "n = (input(\"Enter the string: \"))\n",
    "r = replace_first_vowel(n)\n",
    "print(\"the new string is: \", r)"
   ]
  },
  {
   "cell_type": "code",
   "execution_count": 100,
   "id": "7f1c0b58",
   "metadata": {},
   "outputs": [
    {
     "name": "stdout",
     "output_type": "stream",
     "text": [
      "Enter the string: Hello123!@#\n",
      "Alphabets:  5 Digits:  3 Special Characters:  3\n"
     ]
    }
   ],
   "source": [
    "# Write a Python program to count alphabets, digits, and special characters in a string.\n",
    "# Example:\n",
    "# Input: \"Hello123!@#\"\n",
    "# Output: Alphabets: 5, Digits: 3, Special Characters: 3\n",
    "\n",
    "def count_string(n):\n",
    "   \n",
    "    Alphabets = 0\n",
    "    Digits=0\n",
    "    char=0\n",
    "    \n",
    "    for i in n:\n",
    "        if i.isalpha(): #isalpha() is for checking alphabets\n",
    "            Alphabets+=1\n",
    "        elif i.isdigit():\n",
    "            Digits+=1\n",
    "        else:\n",
    "            char+=1\n",
    "    \n",
    "    print(\"Alphabets: \" ,Alphabets, \"Digits: \", Digits, \"Special Characters: \", char)       \n",
    "\n",
    "n = (input(\"Enter the string: \"))\n",
    "count_string(n)\n"
   ]
  },
  {
   "cell_type": "code",
   "execution_count": 101,
   "id": "e78071c4",
   "metadata": {},
   "outputs": [
    {
     "name": "stdout",
     "output_type": "stream",
     "text": [
      "Enter the string: hello\n",
      "['h', 'e', 'l', 'l', 'o']\n"
     ]
    }
   ],
   "source": [
    "# Write a Python program to separate characters in a given string.\n",
    "# Example:\n",
    "# Input: \"hello\"\n",
    "# Output: ['h', 'e', 'l', 'l', 'o']\n",
    "\n",
    "def sep_alpha(n):\n",
    "    d=[]\n",
    "    \n",
    "    for i in n:\n",
    "        d.append(i)\n",
    "    print(d)\n",
    "    \n",
    "n = (input(\"Enter the string: \"))\n",
    "sep_alpha(n)"
   ]
  },
  {
   "cell_type": "code",
   "execution_count": 102,
   "id": "55c4cf52",
   "metadata": {},
   "outputs": [
    {
     "name": "stdout",
     "output_type": "stream",
     "text": [
      "Enter the string: hello world\n",
      "the new string is : helloworld\n"
     ]
    }
   ],
   "source": [
    "# Write a Python program to remove blank spaces from a string.\n",
    "# Example:\n",
    "# Input: \" hello world \"\n",
    "# Output: \"helloworld\"\n",
    "\n",
    "def no_sep_alpha(n):\n",
    "    return n.replace(\" \",\"\")\n",
    "\n",
    "\n",
    "n = (input(\"Enter the string: \"))\n",
    "r = no_sep_alpha(n)\n",
    "print(\"the new string is :\", r)"
   ]
  },
  {
   "cell_type": "code",
   "execution_count": 111,
   "id": "67f93bd1",
   "metadata": {},
   "outputs": [
    {
     "name": "stdout",
     "output_type": "stream",
     "text": [
      "Enter the string: hello,world\n",
      "the new string is : hello world\n"
     ]
    }
   ],
   "source": [
    "# Write a Python program to concatenate two strings using the join() method.\n",
    "# Example:\n",
    "# Input: \"Hello\", \"World\"\n",
    "# Output: \"Hello World\"\n",
    "\n",
    "def n_sep_alpha(n,k):\n",
    "    \n",
    "    return \" \".join([n,k])\n",
    "\n",
    "n,k = map(str,input(\"Enter the string: \").split(\",\"))\n",
    "r = n_sep_alpha(n.strip(),k.strip()) #strip() is used to remove any extra spaces\n",
    "print(\"the new string is :\", r)"
   ]
  },
  {
   "cell_type": "code",
   "execution_count": 114,
   "id": "a85a8d7c",
   "metadata": {},
   "outputs": [
    {
     "name": "stdout",
     "output_type": "stream",
     "text": [
      "Enter the string: hello,world\n",
      "the new string is : helloworld\n"
     ]
    }
   ],
   "source": [
    "# Write a Python program to concatenate two strings without using the join() method.\n",
    "# Example:\n",
    "# Input: \"Hello\", \"World\"\n",
    "# Output: \"HelloWorld\"\n",
    "\n",
    "def no_join(n,k):\n",
    "    return (n+k)\n",
    "\n",
    "\n",
    "n,k = map(str,input(\"Enter the string: \").split(\",\"))\n",
    "r = no_join(n.strip(),k.strip()) #strip() is used to remove any extra spaces\n",
    "print(\"the new string is :\", r)"
   ]
  },
  {
   "cell_type": "code",
   "execution_count": 118,
   "id": "e4cab4f7",
   "metadata": {},
   "outputs": [
    {
     "name": "stdout",
     "output_type": "stream",
     "text": [
      "Enter the string: hello\n",
      "the new string is : helo\n"
     ]
    }
   ],
   "source": [
    "# Write a Python program to remove repeated characters from a string.\n",
    "# Example:\n",
    "# Input: \"hello\"\n",
    "# Output: \"helo\"\n",
    "\n",
    "def no_repeat(n):\n",
    "    \n",
    "    s=\"\"\n",
    "    for i in n:\n",
    "        if i not in s:\n",
    "            s+=i\n",
    "          \n",
    "    return s\n",
    "    \n",
    "    \n",
    "n = (input(\"Enter the string: \"))\n",
    "r = no_repeat(n)\n",
    "print(\"the new string is :\", r)"
   ]
  },
  {
   "cell_type": "code",
   "execution_count": 13,
   "id": "44cad3aa",
   "metadata": {},
   "outputs": [
    {
     "name": "stdout",
     "output_type": "stream",
     "text": [
      "enter the string: dfufe466\n",
      "16\n"
     ]
    }
   ],
   "source": [
    "# Write a Python program to calculate the sum of integers in a string.\n",
    "# Example:\n",
    "# Input: \"abc123\"\n",
    "# Output: 6\n",
    "\n",
    "def sums(n):\n",
    "    d = 0\n",
    "    \n",
    "    for i in n:\n",
    "        if i.isdigit():\n",
    "            d+=int(i)\n",
    "    print(d)\n",
    "\n",
    "n = input(\"enter the string: \")\n",
    "sums(n)"
   ]
  },
  {
   "cell_type": "code",
   "execution_count": 8,
   "id": "83edcdd9",
   "metadata": {},
   "outputs": [
    {
     "data": {
      "text/plain": [
       "['__add__',\n",
       " '__class__',\n",
       " '__contains__',\n",
       " '__delattr__',\n",
       " '__dir__',\n",
       " '__doc__',\n",
       " '__eq__',\n",
       " '__format__',\n",
       " '__ge__',\n",
       " '__getattribute__',\n",
       " '__getitem__',\n",
       " '__getnewargs__',\n",
       " '__gt__',\n",
       " '__hash__',\n",
       " '__init__',\n",
       " '__init_subclass__',\n",
       " '__iter__',\n",
       " '__le__',\n",
       " '__len__',\n",
       " '__lt__',\n",
       " '__mod__',\n",
       " '__mul__',\n",
       " '__ne__',\n",
       " '__new__',\n",
       " '__reduce__',\n",
       " '__reduce_ex__',\n",
       " '__repr__',\n",
       " '__rmod__',\n",
       " '__rmul__',\n",
       " '__setattr__',\n",
       " '__sizeof__',\n",
       " '__str__',\n",
       " '__subclasshook__',\n",
       " 'capitalize',\n",
       " 'casefold',\n",
       " 'center',\n",
       " 'count',\n",
       " 'encode',\n",
       " 'endswith',\n",
       " 'expandtabs',\n",
       " 'find',\n",
       " 'format',\n",
       " 'format_map',\n",
       " 'index',\n",
       " 'isalnum',\n",
       " 'isalpha',\n",
       " 'isascii',\n",
       " 'isdecimal',\n",
       " 'isdigit',\n",
       " 'isidentifier',\n",
       " 'islower',\n",
       " 'isnumeric',\n",
       " 'isprintable',\n",
       " 'isspace',\n",
       " 'istitle',\n",
       " 'isupper',\n",
       " 'join',\n",
       " 'ljust',\n",
       " 'lower',\n",
       " 'lstrip',\n",
       " 'maketrans',\n",
       " 'partition',\n",
       " 'removeprefix',\n",
       " 'removesuffix',\n",
       " 'replace',\n",
       " 'rfind',\n",
       " 'rindex',\n",
       " 'rjust',\n",
       " 'rpartition',\n",
       " 'rsplit',\n",
       " 'rstrip',\n",
       " 'split',\n",
       " 'splitlines',\n",
       " 'startswith',\n",
       " 'strip',\n",
       " 'swapcase',\n",
       " 'title',\n",
       " 'translate',\n",
       " 'upper',\n",
       " 'zfill']"
      ]
     },
     "execution_count": 8,
     "metadata": {},
     "output_type": "execute_result"
    }
   ],
   "source": [
    "dir(str)"
   ]
  },
  {
   "cell_type": "code",
   "execution_count": null,
   "id": "9c80db74",
   "metadata": {},
   "outputs": [],
   "source": []
  }
 ],
 "metadata": {
  "kernelspec": {
   "display_name": "Python 3 (ipykernel)",
   "language": "python",
   "name": "python3"
  },
  "language_info": {
   "codemirror_mode": {
    "name": "ipython",
    "version": 3
   },
   "file_extension": ".py",
   "mimetype": "text/x-python",
   "name": "python",
   "nbconvert_exporter": "python",
   "pygments_lexer": "ipython3",
   "version": "3.9.12"
  }
 },
 "nbformat": 4,
 "nbformat_minor": 5
}
