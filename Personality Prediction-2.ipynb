{
 "cells": [
  {
   "cell_type": "markdown",
   "id": "d1bd7e2a",
   "metadata": {},
   "source": [
    "Problem Definition: Personality Guessing Based on Numerology (using dd-mm-yyyy)\n",
    "Create a system that guesses a user's personality based on numerology derived from their date of birth (dd-mm-yyyy). The system will extract the by adding all digits in the date together and reducing them to a single digit (except 11 and 22, which are considered master numbers). Based on the Life Path Number (1 to 9), the system will provide a personality description.Steps:: User enters their date of birth in dd-mm-yyyy format.:\n",
    "Extract digits from the date of birth.\n",
    "Add all digits together.\n",
    "Reduce the sum to a single digit (or 11, 22 if applicable).\n",
    ": The system provides a personality description based on the resulting Life Path Number.Example:\n",
    "Date of Birth: 15-08-1992\n",
    "Sum: 1 + 5 + 0 + 8 + 1 + 9 + 9 + 2 = 35 → 3 + 5 = 8\n",
    "Life Path Number:\n",
    "Personality:\n",
    "Numerology Life Path Personalities::\n",
    "1: Leader, independent, ambitious. You are driven by a strong desire to be at the forefront and excel in all areas of life. Confidence and determination are your key strengths.\n",
    ":\n",
    ": 2Diplomatic, cooperative, peacemaker. You are sensitive to others' needs, thrive in harmonious environments, and have a natural ability to mediate and resolve conflicts.\n",
    ":\n",
    "3: Creative, communicative, social. You are expressive and charming, with a talent for communication and creativity. You enjoy being around people and have a positive outlook on life.\n",
    ":\n",
    "4: Practical, disciplined, hardworking. You are methodical, detail-oriented, and value security and stability. You excel in creating solid foundations and achieving long-term goals.\n",
    ":\n",
    ":5 Adventurous, freedom-loving, energetic. You are always looking for new experiences, and you thrive on change and unpredictability. Adaptability is your strength.\n",
    ":\n",
    "6: Caring, responsible, family-oriented. You are nurturing and protective, often putting others' needs before your own. Harmony and community are important to you.\n",
    ":\n",
    "7: Intellectual, introspective, spiritual. You have a deep need for solitude and introspection, often seeking knowledge, truth, and spiritual understanding.\n",
    ":\n",
    "8: Ambitious, materialistic, powerful. You are driven by success, financial security, and personal power. Leadership comes naturally, and you focus on achieving big goals.\n",
    ":\n",
    "9: Compassionate, humanitarian, idealistic. You are generous, altruistic, and driven by a desire to make the world a better place. Your vision is broad, and you often work toward global causes."
   ]
  },
  {
   "cell_type": "code",
   "execution_count": 4,
   "id": "bbac6b61",
   "metadata": {},
   "outputs": [],
   "source": [
    "import re"
   ]
  },
  {
   "cell_type": "code",
   "execution_count": 5,
   "id": "de1832e1",
   "metadata": {},
   "outputs": [
    {
     "name": "stdout",
     "output_type": "stream",
     "text": [
      "{1: 'Leader, independent, ambitious. You are driven by a strong desire to be at the forefront and excel in all areas of life. Confidence and determination are your key strengths.', 2: 'Diplomatic, cooperative, peacemaker. You are sensitive to others needs, thrive in harmonious environments, and have a natural ability to mediate and resolve conflicts.', 3: 'Creative, communicative, social. You are expressive and charming, with a talent for communication and creativity. You enjoy being around people and have a positive outlook on life.', 4: ' Practical, disciplined, hardworking. You are methodical, detail-oriented, and value security and stability. You excel in creating solid foundations and achieving long-term goals.', 5: 'Adventurous, freedom-loving, energetic. You are always looking for new experiences, and you thrive on change and unpredictability. Adaptability is your strength.', 6: \"Caring, responsible, family-oriented. You are nurturing and protective, often putting others' needs before your own. Harmony and community are important to you.\", 7: 'Intellectual, introspective, spiritual. You have a deep need for solitude and introspection, often seeking knowledge, truth, and spiritual understanding.', 8: ' Ambitious, materialistic, powerful. You are driven by success, financial security, and personal power. Leadership comes naturally, and you focus on achieving big goals.', 9: 'Compassionate, humanitarian, idealistic. You are generous, altruistic, and driven by a desire to make the world a better place. Your vision is broad, and you often work toward global causes.'}\n"
     ]
    }
   ],
   "source": [
    "path = {1:\"Leader, independent, ambitious. You are driven by a strong desire to be at the forefront and excel in all areas of life. Confidence and determination are your key strengths.\",\n",
    "        2:\"Diplomatic, cooperative, peacemaker. You are sensitive to others needs, thrive in harmonious environments, and have a natural ability to mediate and resolve conflicts.\",\n",
    "        3:\"Creative, communicative, social. You are expressive and charming, with a talent for communication and creativity. You enjoy being around people and have a positive outlook on life.\",\n",
    "        4:\" Practical, disciplined, hardworking. You are methodical, detail-oriented, and value security and stability. You excel in creating solid foundations and achieving long-term goals.\",\n",
    "        5:\"Adventurous, freedom-loving, energetic. You are always looking for new experiences, and you thrive on change and unpredictability. Adaptability is your strength.\",\n",
    "        6:\"Caring, responsible, family-oriented. You are nurturing and protective, often putting others' needs before your own. Harmony and community are important to you.\",\n",
    "        7:\"Intellectual, introspective, spiritual. You have a deep need for solitude and introspection, often seeking knowledge, truth, and spiritual understanding.\",\n",
    "        8:\" Ambitious, materialistic, powerful. You are driven by success, financial security, and personal power. Leadership comes naturally, and you focus on achieving big goals.\",\n",
    "        9:\"Compassionate, humanitarian, idealistic. You are generous, altruistic, and driven by a desire to make the world a better place. Your vision is broad, and you often work toward global causes.\"\n",
    "    \n",
    "       }\n",
    "print(path)"
   ]
  },
  {
   "cell_type": "code",
   "execution_count": 29,
   "id": "6ad9b928",
   "metadata": {},
   "outputs": [
    {
     "name": "stdout",
     "output_type": "stream",
     "text": [
      "Enter your birth date in dd-mm-yyyy format: 15-10-2002\n"
     ]
    }
   ],
   "source": [
    "date = input(\"Enter your birth date in dd-mm-yyyy format: \")\n",
    "def date_taking():\n",
    "    d = \"\\d[1-31]+\\-+\\d[1-12]+\\-+\\d+\"\n",
    "    f= r\"\\b(0[1-9]|[12][0-9]|3[01])-(0[1-9]|1[0-2])-\\d{4}\\b\"\n",
    "\n",
    "    \n",
    "\n",
    "    # Define the correct pattern to capture day, month, and year\n",
    "    pattern = r\"\\b(0[1-9]|[12][0-9]|3[01])-(0[1-9]|1[0-2])-(\\d{4})\\b\"\n",
    "\n",
    "    # Check if the input matches the pattern\n",
    "    match = re.match(pattern, date)\n",
    "    \n",
    "    if not match:\n",
    "         print(\"Invalid date format\")\n",
    "    \n",
    "    \n",
    "    # Extract day, month, and year using groups() method from the match object\n",
    "    day, month, year = match.groups()\n",
    "    print(f\"Day: {day}, Month: {month}, Year: {year}\")\n",
    "    sum = 0\n",
    "    \n",
    "    dob = list(pattern)\n",
    "    \n",
    "    for num in dob:\n",
    "        if num.isdigit():\n",
    "            sum+=int(num)\n",
    "            \n",
    "    d1[sum]\n",
    "    \n",
    "    while sum>9:\n",
    "        new = 0\n",
    "        while sum>0:\n",
    "            dig=sum%10\n",
    "            sum = sum//10\n",
    "            new+=sum\n",
    "            print\n",
    "    sum=new\n",
    "    print(path[sum])\n",
    "\n",
    "    "
   ]
  },
  {
   "cell_type": "code",
   "execution_count": 22,
   "id": "275b0d4e",
   "metadata": {},
   "outputs": [
    {
     "name": "stdout",
     "output_type": "stream",
     "text": [
      "Enter your birth date in dd-mm-yyyy format: 15-10-2002\n",
      "Day: 15, Month: 10, Year: 2002\n"
     ]
    }
   ],
   "source": [
    "date = input(\"Enter your birth date in dd-mm-yyyy format: \")\n",
    "\n",
    "# Define the correct pattern to capture day, month, and year\n",
    "pattern = r\"\\b(0[1-9]|[12][0-9]|3[01])-(0[1-9]|1[0-2])-(\\d{4})\\b\"\n",
    "\n",
    "# Check if the input matches the pattern\n",
    "match = re.match(pattern, date)\n",
    "\n",
    "if match:\n",
    "    # Extract day, month, and year using groups() method from the match object\n",
    "    day, month, year = match.groups()\n",
    "    print(f\"Day: {day}, Month: {month}, Year: {year}\")\n",
    "else:\n",
    "    print(\"Invalid date format\")"
   ]
  },
  {
   "cell_type": "code",
   "execution_count": 26,
   "id": "773d9470",
   "metadata": {},
   "outputs": [
    {
     "name": "stdout",
     "output_type": "stream",
     "text": [
      "Enter your birth date in dd-mm-yyyy format: 15-10-2002\n",
      "Life Path Number: 11\n",
      "Personality: Visionary, intuitive, inspirational. You are spiritually aware, highly intuitive, and have the potential to inspire others with your insights and ideals.\n"
     ]
    }
   ],
   "source": [
    "import re\n",
    "\n",
    "def get_life_path_number(date):\n",
    "    # Step 1: Validate and extract digits from the date of birth using regex\n",
    "    pattern = r\"\\b(0[1-9]|[12][0-9]|3[01])-(0[1-9]|1[0-2])-(\\d{4})\\b\"\n",
    "    match = re.match(pattern, date)\n",
    "    \n",
    "    if not match:\n",
    "        return None, \"Invalid date format! Please enter date in dd-mm-yyyy format.\"\n",
    "    \n",
    "    # Step 2: Extract the day, month, and year from the match object\n",
    "    day, month, year = match.groups()\n",
    "    \n",
    "    # Step 3: Convert day, month, and year to their individual digits and calculate their sum\n",
    "    all_digits = list(day + month + year)  # Combine all digits as a single string\n",
    "    digit_sum = sum(int(digit) for digit in all_digits)  # Calculate the sum of all digits\n",
    "    \n",
    "    # Step 4: Reduce the sum to a single digit or identify master numbers 11 and 22\n",
    "    while digit_sum > 9 and digit_sum not in (11, 22):\n",
    "        digit_sum = sum(int(digit) for digit in str(digit_sum))  # Reduce the number further\n",
    "    \n",
    "    return digit_sum, None\n",
    "\n",
    "def get_personality_description(life_path_number):\n",
    "    # Step 5: Define personality descriptions for each life path number\n",
    "    descriptions = {\n",
    "        1: \"Leader, independent, ambitious. You are driven by a strong desire to be at the forefront and excel in all areas of life. Confidence and determination are your key strengths.\",\n",
    "        2: \"Diplomatic, cooperative, peacemaker. You are sensitive to others' needs, thrive in harmonious environments, and have a natural ability to mediate and resolve conflicts.\",\n",
    "        3: \"Creative, communicative, social. You are expressive and charming, with a talent for communication and creativity. You enjoy being around people and have a positive outlook on life.\",\n",
    "        4: \"Practical, disciplined, hardworking. You are methodical, detail-oriented, and value security and stability. You excel in creating solid foundations and achieving long-term goals.\",\n",
    "        5: \"Adventurous, freedom-loving, energetic. You are always looking for new experiences, and you thrive on change and unpredictability. Adaptability is your strength.\",\n",
    "        6: \"Caring, responsible, family-oriented. You are nurturing and protective, often putting others' needs before your own. Harmony and community are important to you.\",\n",
    "        7: \"Intellectual, introspective, spiritual. You have a deep need for solitude and introspection, often seeking knowledge, truth, and spiritual understanding.\",\n",
    "        8: \"Ambitious, materialistic, powerful. You are driven by success, financial security, and personal power. Leadership comes naturally, and you focus on achieving big goals.\",\n",
    "        9: \"Compassionate, humanitarian, idealistic. You are generous, altruistic, and driven by a desire to make the world a better place. Your vision is broad, and you often work toward global causes.\",\n",
    "        11: \"Visionary, intuitive, inspirational. You are spiritually aware, highly intuitive, and have the potential to inspire others with your insights and ideals.\",\n",
    "        22: \"Master builder, practical visionary. You have the ability to turn dreams into reality, combining practicality with intuition and high aspirations.\"\n",
    "    }\n",
    "    \n",
    "    return descriptions.get(life_path_number, \"Unknown personality\")\n",
    "\n",
    "def main():\n",
    "    # Step 6: Get date input from the user\n",
    "    date = input(\"Enter your birth date in dd-mm-yyyy format: \")\n",
    "\n",
    "    # Step 7: Calculate the life path number\n",
    "    life_path_number, error = get_life_path_number(date)\n",
    "    \n",
    "    if error:\n",
    "        print(error)\n",
    "        return\n",
    "    \n",
    "    # Step 8: Get the personality description for the life path number\n",
    "    personality_description = get_personality_description(life_path_number)\n",
    "    \n",
    "    # Step 9: Display the results\n",
    "    print(f\"Life Path Number: {life_path_number}\")\n",
    "    print(f\"Personality: {personality_description}\")\n",
    "\n",
    "# Run the main function\n",
    "if __name__ == \"__main__\":\n",
    "    main()\n"
   ]
  },
  {
   "cell_type": "code",
   "execution_count": 1,
   "id": "6a4756dd",
   "metadata": {},
   "outputs": [],
   "source": [
    "file = open(\"Birthdat.txt\",\"w\")\n",
    "file.write (\"Today is 15/10/2002. And today is my birthday . My whole day is consumed by the exams.\")\n",
    "file.close()"
   ]
  },
  {
   "cell_type": "code",
   "execution_count": 4,
   "id": "65a550c4",
   "metadata": {},
   "outputs": [
    {
     "data": {
      "text/plain": [
       "'Today is 15/10/2002. And today is my birthday . My whole day is consumed by the exams.'"
      ]
     },
     "execution_count": 4,
     "metadata": {},
     "output_type": "execute_result"
    }
   ],
   "source": [
    "file = open(\"Birthdat.txt\",\"r\")\n",
    "file.read()\n"
   ]
  },
  {
   "cell_type": "code",
   "execution_count": 5,
   "id": "4325e1c0",
   "metadata": {},
   "outputs": [],
   "source": [
    "file.close()"
   ]
  },
  {
   "cell_type": "code",
   "execution_count": null,
   "id": "cb2e0f37",
   "metadata": {},
   "outputs": [],
   "source": []
  },
  {
   "cell_type": "code",
   "execution_count": null,
   "id": "a7c3d5fe",
   "metadata": {},
   "outputs": [],
   "source": []
  },
  {
   "cell_type": "code",
   "execution_count": null,
   "id": "528973f8",
   "metadata": {},
   "outputs": [],
   "source": []
  },
  {
   "cell_type": "code",
   "execution_count": null,
   "id": "97552568",
   "metadata": {},
   "outputs": [],
   "source": []
  },
  {
   "cell_type": "code",
   "execution_count": null,
   "id": "1bc3608b",
   "metadata": {},
   "outputs": [],
   "source": []
  },
  {
   "cell_type": "code",
   "execution_count": null,
   "id": "2ad2129c",
   "metadata": {},
   "outputs": [],
   "source": []
  },
  {
   "cell_type": "code",
   "execution_count": null,
   "id": "540f4166",
   "metadata": {},
   "outputs": [],
   "source": []
  }
 ],
 "metadata": {
  "kernelspec": {
   "display_name": "Python 3 (ipykernel)",
   "language": "python",
   "name": "python3"
  },
  "language_info": {
   "codemirror_mode": {
    "name": "ipython",
    "version": 3
   },
   "file_extension": ".py",
   "mimetype": "text/x-python",
   "name": "python",
   "nbconvert_exporter": "python",
   "pygments_lexer": "ipython3",
   "version": "3.9.12"
  }
 },
 "nbformat": 4,
 "nbformat_minor": 5
}
